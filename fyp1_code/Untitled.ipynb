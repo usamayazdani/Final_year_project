{
 "cells": [
  {
   "cell_type": "code",
   "execution_count": 1,
   "id": "fd66b3bd-d732-4847-bac1-3c569dab7f96",
   "metadata": {},
   "outputs": [
    {
     "name": "stdout",
     "output_type": "stream",
     "text": [
      "Requirement already satisfied: gensim in /home/osama/anaconda3/lib/python3.10/site-packages (4.3.0)\n",
      "Collecting FuzzyTM>=0.4.0\n",
      "  Downloading FuzzyTM-2.0.5-py3-none-any.whl (29 kB)\n",
      "Requirement already satisfied: scipy>=1.7.0 in /home/osama/anaconda3/lib/python3.10/site-packages (from gensim) (1.10.0)\n",
      "Requirement already satisfied: smart-open>=1.8.1 in /home/osama/anaconda3/lib/python3.10/site-packages (from gensim) (5.2.1)\n",
      "Requirement already satisfied: numpy>=1.18.5 in /home/osama/anaconda3/lib/python3.10/site-packages (from gensim) (1.23.5)\n",
      "Collecting pyfume\n",
      "  Downloading pyFUME-0.2.25-py3-none-any.whl (67 kB)\n",
      "\u001b[2K     \u001b[38;2;114;156;31m━━━━━━━━━━━━━━━━━━━━━━━━━━━━━━━━━━━━━━━━\u001b[0m \u001b[32m67.1/67.1 kB\u001b[0m \u001b[31m1.1 MB/s\u001b[0m eta \u001b[36m0:00:00\u001b[0m MB/s\u001b[0m eta \u001b[36m0:00:01\u001b[0m\n",
      "\u001b[?25hRequirement already satisfied: pandas in /home/osama/.local/lib/python3.10/site-packages (from FuzzyTM>=0.4.0->gensim) (1.5.3)\n",
      "Requirement already satisfied: pytz>=2020.1 in /home/osama/anaconda3/lib/python3.10/site-packages (from pandas->FuzzyTM>=0.4.0->gensim) (2022.7)\n",
      "Requirement already satisfied: python-dateutil>=2.8.1 in /home/osama/.local/lib/python3.10/site-packages (from pandas->FuzzyTM>=0.4.0->gensim) (2.8.2)\n",
      "Collecting simpful\n",
      "  Downloading simpful-2.11.1-py3-none-any.whl (32 kB)\n",
      "Collecting fst-pso\n",
      "  Downloading fst-pso-1.8.1.tar.gz (18 kB)\n",
      "  Preparing metadata (setup.py) ... \u001b[?25ldone\n",
      "\u001b[?25hRequirement already satisfied: six>=1.5 in /home/osama/anaconda3/lib/python3.10/site-packages (from python-dateutil>=2.8.1->pandas->FuzzyTM>=0.4.0->gensim) (1.16.0)\n",
      "Collecting miniful\n",
      "  Downloading miniful-0.0.6.tar.gz (2.8 kB)\n",
      "  Preparing metadata (setup.py) ... \u001b[?25ldone\n",
      "\u001b[?25hBuilding wheels for collected packages: fst-pso, miniful\n",
      "  Building wheel for fst-pso (setup.py) ... \u001b[?25ldone\n",
      "\u001b[?25h  Created wheel for fst-pso: filename=fst_pso-1.8.1-py3-none-any.whl size=20430 sha256=8fd194b4dfe9fdafe1901e1b4c143d61b583b56bf1ec672142229938c80c61fc\n",
      "  Stored in directory: /home/osama/.cache/pip/wheels/01/02/ee/df0699282986903a384b69aab4413af9efd26b3612b5dccc9e\n",
      "  Building wheel for miniful (setup.py) ... \u001b[?25ldone\n",
      "\u001b[?25h  Created wheel for miniful: filename=miniful-0.0.6-py3-none-any.whl size=3513 sha256=92ac80b3615b6b572dff50c61a6e8779535c32f8a1910747189de7bc47d05337\n",
      "  Stored in directory: /home/osama/.cache/pip/wheels/43/aa/48/5c66b931ff013ad19774081aa19656637af5c0cc33b5494b30\n",
      "Successfully built fst-pso miniful\n",
      "Installing collected packages: simpful, miniful, fst-pso, pyfume, FuzzyTM\n",
      "Successfully installed FuzzyTM-2.0.5 fst-pso-1.8.1 miniful-0.0.6 pyfume-0.2.25 simpful-2.11.1\n",
      "Note: you may need to restart the kernel to use updated packages.\n"
     ]
    }
   ],
   "source": [
    "pip install gensim\n"
   ]
  },
  {
   "cell_type": "code",
   "execution_count": 2,
   "id": "c2e4b921-eebf-4486-9650-903ab5518d79",
   "metadata": {},
   "outputs": [
    {
     "name": "stderr",
     "output_type": "stream",
     "text": [
      "[nltk_data] Downloading package punkt to /home/osama/nltk_data...\n",
      "[nltk_data]   Unzipping tokenizers/punkt.zip.\n"
     ]
    },
    {
     "name": "stdout",
     "output_type": "stream",
     "text": [
      "Embedding for 'word': [-8.6298296e-03  3.6681632e-03  5.1785321e-03  5.7445494e-03\n",
      "  7.4705938e-03 -6.1685480e-03  1.1138738e-03  6.0555376e-03\n",
      " -2.8418144e-03 -6.1824331e-03 -4.1237433e-04 -8.3805369e-03\n",
      " -5.5995667e-03  7.1151094e-03  3.3540488e-03  7.2235228e-03\n",
      "  6.8057831e-03  7.5281374e-03 -3.7935155e-03 -5.7344144e-04\n",
      "  2.3504724e-03 -4.5226240e-03  8.3839241e-03 -9.8470384e-03\n",
      "  6.7680678e-03  2.9179594e-03 -4.9259858e-03  4.4020130e-03\n",
      " -1.7468737e-03  6.7095556e-03  9.9721625e-03 -4.3637282e-03\n",
      " -6.0247007e-04 -5.7167397e-03  3.8528359e-03  2.7940876e-03\n",
      "  6.9078840e-03  6.1132307e-03  9.5355660e-03  9.2890337e-03\n",
      "  7.8937942e-03 -6.9945790e-03 -9.1576809e-03 -3.6040720e-04\n",
      " -3.0914862e-03  7.8796009e-03  5.9379870e-03 -1.5417497e-03\n",
      "  1.5230684e-03  1.7945410e-03  7.8278948e-03 -9.5083099e-03\n",
      " -2.1045536e-04  3.4689433e-03 -9.4225397e-04  8.3829993e-03\n",
      "  9.0226028e-03  6.5382775e-03 -7.1232935e-04  7.7109379e-03\n",
      " -8.5367877e-03  3.1962697e-03 -4.6257814e-03 -5.0842953e-03\n",
      "  3.5846962e-03  5.3697862e-03  7.7592628e-03 -5.7639619e-03\n",
      "  7.4238712e-03  6.6361227e-03 -3.6999416e-03 -8.7415250e-03\n",
      "  5.4382994e-03  6.5136719e-03 -7.8481116e-04 -6.7147166e-03\n",
      " -7.0842714e-03 -2.4850999e-03  5.1530777e-03 -3.6665336e-03\n",
      " -9.3842056e-03  3.8183918e-03  4.8821638e-03 -6.4356918e-03\n",
      "  1.2087193e-03 -2.0814540e-03  2.5311132e-05 -9.8733921e-03\n",
      "  2.7005044e-03 -4.7450261e-03  1.0835968e-03 -1.5732175e-03\n",
      "  2.2047043e-03 -7.8791250e-03 -2.7065936e-03  2.6641474e-03\n",
      "  5.3564487e-03 -2.4024355e-03 -9.5121432e-03  4.5059235e-03]\n",
      "Words similar to 'word': [('interaction', 0.18906717002391815), ('popular', 0.18876123428344727), ('they', 0.1609521210193634)]\n"
     ]
    }
   ],
   "source": [
    "from gensim.models import Word2Vec\n",
    "from nltk.tokenize import word_tokenize\n",
    "import nltk\n",
    "nltk.download('punkt')  # Download the tokenizer data\n",
    "\n",
    "# Sample text data\n",
    "corpus = [\n",
    "    \"Word embeddings are dense vector representations of words.\",\n",
    "    \"They capture semantic relationships between words.\",\n",
    "    \"Word2Vec is a popular method for learning word embeddings.\",\n",
    "    \"Gensim is a Python library for topic modeling and document similarity analysis.\",\n",
    "    \"Natural Language Processing (NLP) involves the interaction between computers and humans using natural language.\",\n",
    "]\n",
    "\n",
    "# Tokenize the sentences\n",
    "tokenized_corpus = [word_tokenize(sentence.lower()) for sentence in corpus]\n",
    "\n",
    "# Train Word2Vec model\n",
    "model = Word2Vec(sentences=tokenized_corpus, vector_size=100, window=5, min_count=1, workers=4)\n",
    "\n",
    "# Save the model\n",
    "model.save(\"word2vec_model\")\n",
    "\n",
    "# Load the model\n",
    "loaded_model = Word2Vec.load(\"word2vec_model\")\n",
    "\n",
    "# Get the embedding for a specific word\n",
    "word_embedding = loaded_model.wv['word']\n",
    "print(\"Embedding for 'word':\", word_embedding)\n",
    "\n",
    "# Find similar words\n",
    "similar_words = loaded_model.wv.most_similar('word', topn=3)\n",
    "print(\"Words similar to 'word':\", similar_words)\n"
   ]
  },
  {
   "cell_type": "code",
   "execution_count": null,
   "id": "2fdba7f8-b84e-4e75-848a-cc3145af044d",
   "metadata": {},
   "outputs": [],
   "source": []
  }
 ],
 "metadata": {
  "kernelspec": {
   "display_name": "Python 3 (ipykernel)",
   "language": "python",
   "name": "python3"
  },
  "language_info": {
   "codemirror_mode": {
    "name": "ipython",
    "version": 3
   },
   "file_extension": ".py",
   "mimetype": "text/x-python",
   "name": "python",
   "nbconvert_exporter": "python",
   "pygments_lexer": "ipython3",
   "version": "3.10.9"
  }
 },
 "nbformat": 4,
 "nbformat_minor": 5
}
